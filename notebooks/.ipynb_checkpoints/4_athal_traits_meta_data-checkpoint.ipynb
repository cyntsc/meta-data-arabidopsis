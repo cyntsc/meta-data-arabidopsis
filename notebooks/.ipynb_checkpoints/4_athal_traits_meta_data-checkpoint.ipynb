{
 "cells": [
  {
   "cell_type": "markdown",
   "metadata": {},
   "source": [
    "# 4 Prepare a traits file to match expression data in the wgcna analysis\n",
    "\n",
    "Made by: Cynthia Soto <br>\n",
    "Date: Feb 24, 2021 <br>\n",
    "Last md:  <br>"
   ]
  },
  {
   "cell_type": "code",
   "execution_count": 2,
   "metadata": {},
   "outputs": [],
   "source": [
    "# Libraries required\n",
    "import os \n",
    "import glob\n",
    "import pandas as pd"
   ]
  },
  {
   "cell_type": "code",
   "execution_count": 3,
   "metadata": {},
   "outputs": [
    {
     "name": "stdout",
     "output_type": "stream",
     "text": [
      "Directory changed: /home/cyntsc/Proyectos/tesis-code/meta-xtrome-analysis/meta-data\n"
     ]
    }
   ],
   "source": [
    "try:\n",
    "    # Change the current working Directory      \n",
    "    os.chdir(\"/home/cyntsc/Proyectos/tesis-code/meta-xtrome-analysis/meta-data/\")\n",
    "    print(\"Directory changed:\", os.getcwd() )\n",
    "except OSError:\n",
    "    print(\"Can't change the Current Working Directory\")    \n"
   ]
  },
  {
   "cell_type": "code",
   "execution_count": 4,
   "metadata": {},
   "outputs": [],
   "source": [
    "#Araport11_GFF3_genes_transposons.201606.gff\n",
    "#Araport11_functional_descriptions_20181231.txt\n",
    "file = \"athal_GO_terms.txt\"\n",
    "df = pd.read_csv(file, sep='\\t')    ## , usecols=[1,3], nrows=100, "
   ]
  },
  {
   "cell_type": "code",
   "execution_count": 6,
   "metadata": {},
   "outputs": [
    {
     "data": {
      "text/html": [
       "<div>\n",
       "<style scoped>\n",
       "    .dataframe tbody tr th:only-of-type {\n",
       "        vertical-align: middle;\n",
       "    }\n",
       "\n",
       "    .dataframe tbody tr th {\n",
       "        vertical-align: top;\n",
       "    }\n",
       "\n",
       "    .dataframe thead th {\n",
       "        text-align: right;\n",
       "    }\n",
       "</style>\n",
       "<table border=\"1\" class=\"dataframe\">\n",
       "  <thead>\n",
       "    <tr style=\"text-align: right;\">\n",
       "      <th></th>\n",
       "      <th>Locus</th>\n",
       "      <th>TAIR internal locus id</th>\n",
       "      <th>Gene Model(s)</th>\n",
       "      <th>GO term</th>\n",
       "      <th>GO ID</th>\n",
       "      <th>TAIR internal GO id</th>\n",
       "      <th>category</th>\n",
       "      <th>GO Slim(s)</th>\n",
       "      <th>Evidence code</th>\n",
       "      <th>Reference</th>\n",
       "      <th>Made by</th>\n",
       "      <th>date last modified</th>\n",
       "    </tr>\n",
       "  </thead>\n",
       "  <tbody>\n",
       "    <tr>\n",
       "      <th>0</th>\n",
       "      <td>AT1G01010</td>\n",
       "      <td>2.200934e+06</td>\n",
       "      <td>AT1G01010.1</td>\n",
       "      <td>nucleus</td>\n",
       "      <td>GO:0005634</td>\n",
       "      <td>537.0</td>\n",
       "      <td>comp</td>\n",
       "      <td>nucleus</td>\n",
       "      <td>ISM</td>\n",
       "      <td>AnalysisReference:501780126</td>\n",
       "      <td>NaN</td>\n",
       "      <td>08/31/2018 00:00:00</td>\n",
       "    </tr>\n",
       "    <tr>\n",
       "      <th>1</th>\n",
       "      <td>AT1G01010</td>\n",
       "      <td>2.200935e+06</td>\n",
       "      <td>AT1G01010</td>\n",
       "      <td>regulation of transcription, DNA-templated</td>\n",
       "      <td>GO:0006355</td>\n",
       "      <td>7461.0</td>\n",
       "      <td>proc</td>\n",
       "      <td>other cellular processes | nucleobase-containi...</td>\n",
       "      <td>ISS</td>\n",
       "      <td>Publication:1345963|PMID:11118137</td>\n",
       "      <td>NaN</td>\n",
       "      <td>04/02/2018 00:00:00</td>\n",
       "    </tr>\n",
       "    <tr>\n",
       "      <th>2</th>\n",
       "      <td>AT1G01010</td>\n",
       "      <td>2.200935e+06</td>\n",
       "      <td>AT1G01010</td>\n",
       "      <td>DNA-binding transcription factor activity</td>\n",
       "      <td>GO:0003700</td>\n",
       "      <td>4449.0</td>\n",
       "      <td>func</td>\n",
       "      <td>DNA-binding transcription factor activity</td>\n",
       "      <td>ISS</td>\n",
       "      <td>Publication:1345963|PMID:11118137</td>\n",
       "      <td>TAIR</td>\n",
       "      <td>06/06/2003 00:00:00</td>\n",
       "    </tr>\n",
       "    <tr>\n",
       "      <th>3</th>\n",
       "      <td>AT1G01010</td>\n",
       "      <td>2.200935e+06</td>\n",
       "      <td>AT1G01010</td>\n",
       "      <td>regulation of transcription, DNA-templated</td>\n",
       "      <td>GO:0006355</td>\n",
       "      <td>7461.0</td>\n",
       "      <td>proc</td>\n",
       "      <td>other cellular processes | other metabolic pro...</td>\n",
       "      <td>IEA</td>\n",
       "      <td>AnalysisReference:501756966</td>\n",
       "      <td>NaN</td>\n",
       "      <td>08/15/2020 00:00:00</td>\n",
       "    </tr>\n",
       "    <tr>\n",
       "      <th>4</th>\n",
       "      <td>AT1G01020</td>\n",
       "      <td>6.532552e+09</td>\n",
       "      <td>AT1G01020.5</td>\n",
       "      <td>mitochondrion</td>\n",
       "      <td>GO:0005739</td>\n",
       "      <td>486.0</td>\n",
       "      <td>comp</td>\n",
       "      <td>mitochondrion</td>\n",
       "      <td>ISM</td>\n",
       "      <td>AnalysisReference:501780126</td>\n",
       "      <td>NaN</td>\n",
       "      <td>08/31/2018 00:00:00</td>\n",
       "    </tr>\n",
       "  </tbody>\n",
       "</table>\n",
       "</div>"
      ],
      "text/plain": [
       "       Locus  TAIR internal locus id Gene Model(s)  \\\n",
       "0  AT1G01010            2.200934e+06   AT1G01010.1   \n",
       "1  AT1G01010            2.200935e+06     AT1G01010   \n",
       "2  AT1G01010            2.200935e+06     AT1G01010   \n",
       "3  AT1G01010            2.200935e+06     AT1G01010   \n",
       "4  AT1G01020            6.532552e+09   AT1G01020.5   \n",
       "\n",
       "                                      GO term       GO ID  \\\n",
       "0                                     nucleus  GO:0005634   \n",
       "1  regulation of transcription, DNA-templated  GO:0006355   \n",
       "2   DNA-binding transcription factor activity  GO:0003700   \n",
       "3  regulation of transcription, DNA-templated  GO:0006355   \n",
       "4                               mitochondrion  GO:0005739   \n",
       "\n",
       "   TAIR internal GO id category  \\\n",
       "0                537.0     comp   \n",
       "1               7461.0     proc   \n",
       "2               4449.0     func   \n",
       "3               7461.0     proc   \n",
       "4                486.0     comp   \n",
       "\n",
       "                                          GO Slim(s) Evidence code  \\\n",
       "0                                            nucleus           ISM   \n",
       "1  other cellular processes | nucleobase-containi...           ISS   \n",
       "2          DNA-binding transcription factor activity           ISS   \n",
       "3  other cellular processes | other metabolic pro...           IEA   \n",
       "4                                      mitochondrion           ISM   \n",
       "\n",
       "                             Reference Made by   date last modified  \n",
       "0          AnalysisReference:501780126     NaN  08/31/2018 00:00:00  \n",
       "1  Publication:1345963|PMID:11118137       NaN  04/02/2018 00:00:00  \n",
       "2  Publication:1345963|PMID:11118137      TAIR  06/06/2003 00:00:00  \n",
       "3          AnalysisReference:501756966     NaN  08/15/2020 00:00:00  \n",
       "4          AnalysisReference:501780126     NaN  08/31/2018 00:00:00  "
      ]
     },
     "execution_count": 6,
     "metadata": {},
     "output_type": "execute_result"
    }
   ],
   "source": [
    "df.head(5)"
   ]
  },
  {
   "cell_type": "code",
   "execution_count": null,
   "metadata": {},
   "outputs": [],
   "source": [
    "file = \"athal_GO_terms.txt\"\n",
    "df = pd.read_csv(file, sep='\\t')    ## , usecols=[1,3], nrows=100, "
   ]
  }
 ],
 "metadata": {
  "kernelspec": {
   "display_name": "Python 3",
   "language": "python",
   "name": "python3"
  },
  "language_info": {
   "codemirror_mode": {
    "name": "ipython",
    "version": 3
   },
   "file_extension": ".py",
   "mimetype": "text/x-python",
   "name": "python",
   "nbconvert_exporter": "python",
   "pygments_lexer": "ipython3",
   "version": "3.6.9"
  }
 },
 "nbformat": 4,
 "nbformat_minor": 4
}
