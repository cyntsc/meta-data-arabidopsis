{
 "cells": [
  {
   "cell_type": "markdown",
   "metadata": {},
   "source": [
    "# Remove Outliers in Datasets \n",
    "\n",
    "#### Cynthia Soto\n",
    "#### Fecha: 24 de Julio 2020\n",
    "\n",
    "#### Type of data: expression levels (absolute and TPM)\n",
    "#### Data estimated with: Salmon SA mode \n",
    "#### Dataset1: Plantas sanas de Arabidopsis\n",
    "\n",
    "Outliers can be removed from the data using statistical methods of IQR, Z-Score and Data Smoothing\n",
    "1. For calculating IQR of a dataset first calculate it’s 1st Quartile(Q1) and 3rd Quartile(Q3) i.e. 25th and 75 percentile of the data and then subtract Q1 from Q3.\n",
    "2. Z-Score tells how far a point is from the mean of dataset in terms of standard deviation.An absolute value of z score which is above 3 is termed as an outlier.\n",
    "3. Data smoothing is a process to remove the spikes and peaks from the data. Moving Average, Rolling Mean and Exponential smoothing are some of the process to smooth the data. Pandas Exponential smoothing function (EWM) can be used to calculate the value at different alpha level.\n",
    "\n"
   ]
  },
  {
   "cell_type": "code",
   "execution_count": 1,
   "metadata": {},
   "outputs": [],
   "source": [
    "import sys\n",
    "import pandas as pd\n",
    "import matplotlib.pyplot as plt\n",
    "#%matplotlib widget\n",
    "import numpy as np\n",
    "import seaborn as sns\n",
    "# importing Statistics module \n",
    "import statistics \n",
    "from scipy.stats import iqr\n",
    "from scipy import stats"
   ]
  },
  {
   "cell_type": "markdown",
   "metadata": {},
   "source": [
    "## Exploring Data\n"
   ]
  },
  {
   "cell_type": "code",
   "execution_count": 32,
   "metadata": {},
   "outputs": [
    {
     "data": {
      "text/html": [
       "<div>\n",
       "<style scoped>\n",
       "    .dataframe tbody tr th:only-of-type {\n",
       "        vertical-align: middle;\n",
       "    }\n",
       "\n",
       "    .dataframe tbody tr th {\n",
       "        vertical-align: top;\n",
       "    }\n",
       "\n",
       "    .dataframe thead th {\n",
       "        text-align: right;\n",
       "    }\n",
       "</style>\n",
       "<table border=\"1\" class=\"dataframe\">\n",
       "  <thead>\n",
       "    <tr style=\"text-align: right;\">\n",
       "      <th></th>\n",
       "      <th>Length</th>\n",
       "      <th>EffectiveLength</th>\n",
       "      <th>TPM</th>\n",
       "      <th>NumReads</th>\n",
       "    </tr>\n",
       "  </thead>\n",
       "  <tbody>\n",
       "    <tr>\n",
       "      <th>count</th>\n",
       "      <td>3201.000000</td>\n",
       "      <td>3201.000000</td>\n",
       "      <td>3201.000000</td>\n",
       "      <td>3201.000000</td>\n",
       "    </tr>\n",
       "    <tr>\n",
       "      <th>mean</th>\n",
       "      <td>500.084349</td>\n",
       "      <td>253.335170</td>\n",
       "      <td>312.402374</td>\n",
       "      <td>155.402999</td>\n",
       "    </tr>\n",
       "    <tr>\n",
       "      <th>std</th>\n",
       "      <td>307.164462</td>\n",
       "      <td>305.474797</td>\n",
       "      <td>1898.835931</td>\n",
       "      <td>482.621994</td>\n",
       "    </tr>\n",
       "    <tr>\n",
       "      <th>min</th>\n",
       "      <td>251.000000</td>\n",
       "      <td>21.005000</td>\n",
       "      <td>0.000000</td>\n",
       "      <td>0.000000</td>\n",
       "    </tr>\n",
       "    <tr>\n",
       "      <th>25%</th>\n",
       "      <td>302.000000</td>\n",
       "      <td>54.120000</td>\n",
       "      <td>54.056874</td>\n",
       "      <td>20.000000</td>\n",
       "    </tr>\n",
       "    <tr>\n",
       "      <th>50%</th>\n",
       "      <td>388.000000</td>\n",
       "      <td>139.000000</td>\n",
       "      <td>86.728262</td>\n",
       "      <td>37.000000</td>\n",
       "    </tr>\n",
       "    <tr>\n",
       "      <th>75%</th>\n",
       "      <td>576.000000</td>\n",
       "      <td>327.000000</td>\n",
       "      <td>152.067063</td>\n",
       "      <td>95.000000</td>\n",
       "    </tr>\n",
       "    <tr>\n",
       "      <th>max</th>\n",
       "      <td>3169.000000</td>\n",
       "      <td>2920.000000</td>\n",
       "      <td>48773.745983</td>\n",
       "      <td>8725.527000</td>\n",
       "    </tr>\n",
       "  </tbody>\n",
       "</table>\n",
       "</div>"
      ],
      "text/plain": [
       "            Length  EffectiveLength           TPM     NumReads\n",
       "count  3201.000000      3201.000000   3201.000000  3201.000000\n",
       "mean    500.084349       253.335170    312.402374   155.402999\n",
       "std     307.164462       305.474797   1898.835931   482.621994\n",
       "min     251.000000        21.005000      0.000000     0.000000\n",
       "25%     302.000000        54.120000     54.056874    20.000000\n",
       "50%     388.000000       139.000000     86.728262    37.000000\n",
       "75%     576.000000       327.000000    152.067063    95.000000\n",
       "max    3169.000000      2920.000000  48773.745983  8725.527000"
      ]
     },
     "execution_count": 32,
     "metadata": {},
     "output_type": "execute_result"
    }
   ],
   "source": [
    "# Import Data \n",
    "df = pd.read_csv('/home/cyntsc/Proyectos/tesis-code/meta-xtrome-analysis/Dataset3_counts/quant-ZeaMay24-raw.sf', sep='\\t')\n",
    "\n",
    "#Get max value of the numeric cols\n",
    "df.select_dtypes(include=[np.number]).max()\n",
    "df.select_dtypes(include=[np.number]).min()\n",
    "#Get basic statics\n",
    "df.describe()"
   ]
  },
  {
   "cell_type": "markdown",
   "metadata": {},
   "source": [
    "## Exploring Data"
   ]
  },
  {
   "cell_type": "code",
   "execution_count": 6,
   "metadata": {},
   "outputs": [
    {
     "data": {
      "text/html": [
       "<div>\n",
       "<style scoped>\n",
       "    .dataframe tbody tr th:only-of-type {\n",
       "        vertical-align: middle;\n",
       "    }\n",
       "\n",
       "    .dataframe tbody tr th {\n",
       "        vertical-align: top;\n",
       "    }\n",
       "\n",
       "    .dataframe thead th {\n",
       "        text-align: right;\n",
       "    }\n",
       "</style>\n",
       "<table border=\"1\" class=\"dataframe\">\n",
       "  <thead>\n",
       "    <tr style=\"text-align: right;\">\n",
       "      <th></th>\n",
       "      <th>Name</th>\n",
       "      <th>Length</th>\n",
       "      <th>EffectiveLength</th>\n",
       "      <th>TPM</th>\n",
       "      <th>NumReads</th>\n",
       "    </tr>\n",
       "  </thead>\n",
       "  <tbody>\n",
       "    <tr>\n",
       "      <th>0</th>\n",
       "      <td>TRINITY_DN688_c0_g1_i1</td>\n",
       "      <td>351</td>\n",
       "      <td>102.003</td>\n",
       "      <td>78.489229</td>\n",
       "      <td>28.0</td>\n",
       "    </tr>\n",
       "    <tr>\n",
       "      <th>1</th>\n",
       "      <td>TRINITY_DN600_c0_g1_i1</td>\n",
       "      <td>326</td>\n",
       "      <td>77.092</td>\n",
       "      <td>74.179055</td>\n",
       "      <td>20.0</td>\n",
       "    </tr>\n",
       "    <tr>\n",
       "      <th>2</th>\n",
       "      <td>TRINITY_DN685_c0_g1_i1</td>\n",
       "      <td>441</td>\n",
       "      <td>192.000</td>\n",
       "      <td>56.590790</td>\n",
       "      <td>38.0</td>\n",
       "    </tr>\n",
       "    <tr>\n",
       "      <th>3</th>\n",
       "      <td>TRINITY_DN655_c0_g1_i1</td>\n",
       "      <td>1116</td>\n",
       "      <td>867.000</td>\n",
       "      <td>27.702795</td>\n",
       "      <td>84.0</td>\n",
       "    </tr>\n",
       "    <tr>\n",
       "      <th>4</th>\n",
       "      <td>TRINITY_DN640_c0_g1_i1</td>\n",
       "      <td>652</td>\n",
       "      <td>403.000</td>\n",
       "      <td>50.375190</td>\n",
       "      <td>71.0</td>\n",
       "    </tr>\n",
       "  </tbody>\n",
       "</table>\n",
       "</div>"
      ],
      "text/plain": [
       "                     Name  Length  EffectiveLength        TPM  NumReads\n",
       "0  TRINITY_DN688_c0_g1_i1     351          102.003  78.489229      28.0\n",
       "1  TRINITY_DN600_c0_g1_i1     326           77.092  74.179055      20.0\n",
       "2  TRINITY_DN685_c0_g1_i1     441          192.000  56.590790      38.0\n",
       "3  TRINITY_DN655_c0_g1_i1    1116          867.000  27.702795      84.0\n",
       "4  TRINITY_DN640_c0_g1_i1     652          403.000  50.375190      71.0"
      ]
     },
     "execution_count": 6,
     "metadata": {},
     "output_type": "execute_result"
    }
   ],
   "source": [
    "df.head()"
   ]
  },
  {
   "cell_type": "markdown",
   "metadata": {},
   "source": [
    "df_tmp= df['TPM'].map(lambda x: 1+x)\n",
    "#df['TPM'].map(lambda x: 1+x).head()\n",
    "\n",
    "If required, adding a 1 to the TPMs can be done to avoid aritmetical errors. lampba is an operator that helps to create rapid functions. \n",
    "You just have to specify the argument (x), and the function to return followed by a : sign. Let's demonstrate it by doing the same operation as the code cell bellow by specifying a function that takes in an array and returns the sum of every element in the array.\n",
    "\n",
    "#Function:\n",
    "def sum_1(x):\n",
    "    return x + 1\n",
    "\n",
    "#Called the function\n",
    "df['TPM'].map(sum_1).head()\n",
    "\n",
    "Also, apply can be used: `apply` applies a function along any axis of the DataFrame.\n",
    "\n",
    "df[['TPM']].apply(sum, axis = 0)"
   ]
  },
  {
   "cell_type": "code",
   "execution_count": 26,
   "metadata": {},
   "outputs": [
    {
     "data": {
      "text/html": [
       "<div>\n",
       "<style scoped>\n",
       "    .dataframe tbody tr th:only-of-type {\n",
       "        vertical-align: middle;\n",
       "    }\n",
       "\n",
       "    .dataframe tbody tr th {\n",
       "        vertical-align: top;\n",
       "    }\n",
       "\n",
       "    .dataframe thead th {\n",
       "        text-align: right;\n",
       "    }\n",
       "</style>\n",
       "<table border=\"1\" class=\"dataframe\">\n",
       "  <thead>\n",
       "    <tr style=\"text-align: right;\">\n",
       "      <th></th>\n",
       "      <th>Name</th>\n",
       "      <th>Length</th>\n",
       "      <th>EffectiveLength</th>\n",
       "      <th>TPM</th>\n",
       "      <th>NumReads</th>\n",
       "    </tr>\n",
       "  </thead>\n",
       "  <tbody>\n",
       "    <tr>\n",
       "      <th>1</th>\n",
       "      <td>TRINITY_DN600_c0_g1_i1</td>\n",
       "      <td>326</td>\n",
       "      <td>77.092</td>\n",
       "      <td>74.179055</td>\n",
       "      <td>20.0</td>\n",
       "    </tr>\n",
       "    <tr>\n",
       "      <th>6</th>\n",
       "      <td>TRINITY_DN617_c0_g1_i1</td>\n",
       "      <td>323</td>\n",
       "      <td>74.133</td>\n",
       "      <td>53.998530</td>\n",
       "      <td>14.0</td>\n",
       "    </tr>\n",
       "    <tr>\n",
       "      <th>14</th>\n",
       "      <td>TRINITY_DN684_c0_g1_i1</td>\n",
       "      <td>252</td>\n",
       "      <td>21.386</td>\n",
       "      <td>120.332107</td>\n",
       "      <td>9.0</td>\n",
       "    </tr>\n",
       "    <tr>\n",
       "      <th>15</th>\n",
       "      <td>TRINITY_DN632_c0_g1_i1</td>\n",
       "      <td>267</td>\n",
       "      <td>28.299</td>\n",
       "      <td>151.557005</td>\n",
       "      <td>15.0</td>\n",
       "    </tr>\n",
       "    <tr>\n",
       "      <th>16</th>\n",
       "      <td>TRINITY_DN678_c0_g1_i1</td>\n",
       "      <td>258</td>\n",
       "      <td>23.871</td>\n",
       "      <td>191.648258</td>\n",
       "      <td>16.0</td>\n",
       "    </tr>\n",
       "  </tbody>\n",
       "</table>\n",
       "</div>"
      ],
      "text/plain": [
       "                      Name  Length  EffectiveLength         TPM  NumReads\n",
       "1   TRINITY_DN600_c0_g1_i1     326           77.092   74.179055      20.0\n",
       "6   TRINITY_DN617_c0_g1_i1     323           74.133   53.998530      14.0\n",
       "14  TRINITY_DN684_c0_g1_i1     252           21.386  120.332107       9.0\n",
       "15  TRINITY_DN632_c0_g1_i1     267           28.299  151.557005      15.0\n",
       "16  TRINITY_DN678_c0_g1_i1     258           23.871  191.648258      16.0"
      ]
     },
     "execution_count": 26,
     "metadata": {},
     "output_type": "execute_result"
    }
   ],
   "source": [
    "#(df['TPM'] > 10000).tail()   #Maked a boolean operation\n",
    "#df[df['TPM'] > 10000]  #Pull the boolean indexes to show the values\n",
    "\n",
    "# the above statement is passing a Series of True/ False objects to the DataFrame, returning all rows with True\n",
    "\n",
    "df[df['EffectiveLength'] < 100].head()"
   ]
  },
  {
   "cell_type": "code",
   "execution_count": 30,
   "metadata": {},
   "outputs": [
    {
     "data": {
      "text/plain": [
       "False    1915\n",
       "True     1286\n",
       "Name: EffectiveLength, dtype: int64"
      ]
     },
     "execution_count": 30,
     "metadata": {},
     "output_type": "execute_result"
    }
   ],
   "source": [
    "is_len_corta = df['EffectiveLength'] < 100\n",
    "##This yields exactly the same \n",
    "#df[is_len_corta].tail()\n",
    "##count the number of dinner entries in our data set. we can use the .value_counts() method to do so. \n",
    "is_len_corta.value_counts()"
   ]
  },
  {
   "cell_type": "code",
   "execution_count": 3,
   "metadata": {},
   "outputs": [
    {
     "data": {
      "text/plain": [
       "Name               0\n",
       "Length             0\n",
       "EffectiveLength    0\n",
       "TPM                1\n",
       "NumReads           1\n",
       "dtype: int64"
      ]
     },
     "execution_count": 3,
     "metadata": {},
     "output_type": "execute_result"
    }
   ],
   "source": [
    "# Checking counts of values in zero\n",
    "df.isin([0]).sum()"
   ]
  },
  {
   "cell_type": "code",
   "execution_count": 4,
   "metadata": {},
   "outputs": [
    {
     "data": {
      "image/png": "[encoded data removed]",
      "text/plain": [
       "<Figure size 432x288 with 1 Axes>"
      ]
     },
     "metadata": {
      "needs_background": "light"
     },
     "output_type": "display_data"
    }
   ],
   "source": [
    "# Exploring: scatter lenght versus normalized counts\n",
    "\n",
    "plt.scatter('EffectiveLength','TPM', data=df)\n",
    "plt.xlabel('EffectiveLength')\n",
    "plt.ylabel('TPM')\n",
    "plt.title('Scatter effective lenght vs TMP values: rawdata')\n",
    "plt.show()"
   ]
  },
  {
   "cell_type": "code",
   "execution_count": null,
   "metadata": {},
   "outputs": [],
   "source": [
    "# Exploring data: scatter absolute versus normalized counts\n",
    "\n",
    "plt.scatter('TPM','NumReads', data=df)\n",
    "plt.xlabel('TPM')\n",
    "plt.ylabel('NumReads')\n",
    "plt.title('Scatter expression values: raw')\n",
    "plt.show()"
   ]
  },
  {
   "cell_type": "code",
   "execution_count": 47,
   "metadata": {},
   "outputs": [
    {
     "name": "stdout",
     "output_type": "stream",
     "text": [
      "Standard Deviation of sample is 1898.8359309226958 \n"
     ]
    }
   ],
   "source": [
    "lst_TPM = df1 = df['TPM']\n",
    "print(\"Standard Deviation of sample is % s \" \n",
    "      % (statistics.stdev(lst_TPM))) "
   ]
  },
  {
   "cell_type": "code",
   "execution_count": 105,
   "metadata": {},
   "outputs": [
    {
     "data": {
      "image/png": "[encoded data removed]",
      "text/plain": [
       "<Figure size 432x288 with 1 Axes>"
      ]
     },
     "metadata": {
      "needs_background": "light"
     },
     "output_type": "display_data"
    }
   ],
   "source": [
    "# Distribution plot of normalized value \n",
    "sns.distplot(lst_TPM);\n"
   ]
  },
  {
   "cell_type": "code",
   "execution_count": 34,
   "metadata": {},
   "outputs": [
    {
     "data": {
      "image/png": "[encoded data removed]",
      "text/plain": [
       "<Figure size 432x288 with 1 Axes>"
      ]
     },
     "metadata": {
      "needs_background": "light"
     },
     "output_type": "display_data"
    }
   ],
   "source": [
    "df = pd.DataFrame(np.random.randn(20,2),\n",
    "                  columns=['NumReads', 'TPM'])\n",
    "boxplot = df.boxplot(column=['NumReads', 'TPM'])"
   ]
  },
  {
   "cell_type": "code",
   "execution_count": 35,
   "metadata": {},
   "outputs": [
    {
     "data": {
      "image/png": "[encoded data removed]",
      "text/plain": [
       "<Figure size 432x288 with 1 Axes>"
      ]
     },
     "metadata": {
      "needs_background": "light"
     },
     "output_type": "display_data"
    }
   ],
   "source": [
    "df = pd.DataFrame(np.random.randn(20,1),\n",
    "                  columns=['TPM'])\n",
    "boxplot = df.boxplot(column=['TPM'])"
   ]
  },
  {
   "cell_type": "markdown",
   "metadata": {},
   "source": [
    "### Cleaning data\n",
    "\n",
    "Data preparation process can involve three steps: data selection, data preprocessing and data transformation.\n",
    "Expected types values\n",
    "    TPM:float\n",
    "    NumReads: float\n",
    "No missing data\n",
    "\n",
    "I use two robust methods to remove outliers from the data and Data Smoothing techniques using Exponential Weighted Moving Average\n",
    "\n",
    "a) IQR - Interquartile Range\n",
    "b) Z-Score method for Outlier Removal"
   ]
  },
  {
   "cell_type": "markdown",
   "metadata": {},
   "source": [
    "### Data Smoothing:\n",
    "\n",
    "IQR is part of Descriptive statistics and also called as midspead, middle 50%\n",
    "IQR is first Quartile minus the Third Quartile (Q3-Q1)"
   ]
  },
  {
   "cell_type": "code",
   "execution_count": 50,
   "metadata": {},
   "outputs": [
    {
     "data": {
      "text/plain": [
       "98.010189"
      ]
     },
     "execution_count": 50,
     "metadata": {},
     "output_type": "execute_result"
    }
   ],
   "source": [
    "# Get the interquartile grade (IQR = Q3 - Q1)\n",
    "iqr(lst_TPM, axis=0) "
   ]
  },
  {
   "cell_type": "code",
   "execution_count": 61,
   "metadata": {},
   "outputs": [
    {
     "name": "stdout",
     "output_type": "stream",
     "text": [
      "First quantile in TPM column:54.056874\n",
      "First third in TPM column:152.067063\n",
      "IQR in TPM column:98.010189\n",
      "10th.quantile in TPM column:41.590169\n",
      "90th.quantile in TPM column:312.417606\n"
     ]
    }
   ],
   "source": [
    "Q1 = np.quantile(lst_TPM,0.25)\n",
    "Q3 = np.quantile(lst_TPM,0.75)\n",
    "IQR = Q3 - Q1\n",
    "print (\"First quantile in TPM column:\"+str(Q1))\n",
    "print (\"First third in TPM column:\"+str(Q3))\n",
    "print (\"IQR in TPM column:\"+str(IQR))\n",
    "q10 = np.quantile(lst_TPM,0.10)\n",
    "q90 = np.quantile(lst_TPM,0.90)\n",
    "print (\"10th.quantile in TPM column:\"+str(q10))\n",
    "print (\"90th.quantile in TPM column:\"+str(q90))"
   ]
  },
  {
   "cell_type": "markdown",
   "metadata": {},
   "source": [
    "## Method 2: Z Score\n",
    "Z score is an important measurement or score that tells how many Standard deviation above or below a number is from the mean of the dataset\n",
    "\n",
    "Any positive Z score means the no. of standard deviation above the mean and a negative score means no. of standard deviation below the mean"
   ]
  },
  {
   "cell_type": "code",
   "execution_count": 69,
   "metadata": {},
   "outputs": [
    {
     "data": {
      "text/html": [
       "<div>\n",
       "<style scoped>\n",
       "    .dataframe tbody tr th:only-of-type {\n",
       "        vertical-align: middle;\n",
       "    }\n",
       "\n",
       "    .dataframe tbody tr th {\n",
       "        vertical-align: top;\n",
       "    }\n",
       "\n",
       "    .dataframe thead th {\n",
       "        text-align: right;\n",
       "    }\n",
       "</style>\n",
       "<table border=\"1\" class=\"dataframe\">\n",
       "  <thead>\n",
       "    <tr style=\"text-align: right;\">\n",
       "      <th></th>\n",
       "      <th>Name</th>\n",
       "      <th>Length</th>\n",
       "      <th>EffectiveLength</th>\n",
       "      <th>TPM</th>\n",
       "      <th>NumReads</th>\n",
       "      <th>z_score</th>\n",
       "    </tr>\n",
       "  </thead>\n",
       "  <tbody>\n",
       "    <tr>\n",
       "      <th>0</th>\n",
       "      <td>TRINITY_DN688_c0_g1_i1</td>\n",
       "      <td>351</td>\n",
       "      <td>102.003</td>\n",
       "      <td>78.489229</td>\n",
       "      <td>28.0</td>\n",
       "      <td>-0.123207</td>\n",
       "    </tr>\n",
       "    <tr>\n",
       "      <th>1</th>\n",
       "      <td>TRINITY_DN600_c0_g1_i1</td>\n",
       "      <td>326</td>\n",
       "      <td>77.092</td>\n",
       "      <td>74.179055</td>\n",
       "      <td>20.0</td>\n",
       "      <td>-0.125477</td>\n",
       "    </tr>\n",
       "    <tr>\n",
       "      <th>2</th>\n",
       "      <td>TRINITY_DN685_c0_g1_i1</td>\n",
       "      <td>441</td>\n",
       "      <td>192.000</td>\n",
       "      <td>56.590790</td>\n",
       "      <td>38.0</td>\n",
       "      <td>-0.134741</td>\n",
       "    </tr>\n",
       "    <tr>\n",
       "      <th>3</th>\n",
       "      <td>TRINITY_DN655_c0_g1_i1</td>\n",
       "      <td>1116</td>\n",
       "      <td>867.000</td>\n",
       "      <td>27.702795</td>\n",
       "      <td>84.0</td>\n",
       "      <td>-0.149957</td>\n",
       "    </tr>\n",
       "    <tr>\n",
       "      <th>4</th>\n",
       "      <td>TRINITY_DN640_c0_g1_i1</td>\n",
       "      <td>652</td>\n",
       "      <td>403.000</td>\n",
       "      <td>50.375190</td>\n",
       "      <td>71.0</td>\n",
       "      <td>-0.138015</td>\n",
       "    </tr>\n",
       "    <tr>\n",
       "      <th>...</th>\n",
       "      <td>...</td>\n",
       "      <td>...</td>\n",
       "      <td>...</td>\n",
       "      <td>...</td>\n",
       "      <td>...</td>\n",
       "      <td>...</td>\n",
       "    </tr>\n",
       "    <tr>\n",
       "      <th>3196</th>\n",
       "      <td>TRINITY_DN2350_c0_g1_i1</td>\n",
       "      <td>573</td>\n",
       "      <td>324.000</td>\n",
       "      <td>36.182806</td>\n",
       "      <td>41.0</td>\n",
       "      <td>-0.145491</td>\n",
       "    </tr>\n",
       "    <tr>\n",
       "      <th>3197</th>\n",
       "      <td>TRINITY_DN2360_c0_g1_i1</td>\n",
       "      <td>277</td>\n",
       "      <td>34.302</td>\n",
       "      <td>133.371784</td>\n",
       "      <td>16.0</td>\n",
       "      <td>-0.094299</td>\n",
       "    </tr>\n",
       "    <tr>\n",
       "      <th>3198</th>\n",
       "      <td>TRINITY_DN2309_c0_g1_i1</td>\n",
       "      <td>498</td>\n",
       "      <td>249.000</td>\n",
       "      <td>51.674533</td>\n",
       "      <td>45.0</td>\n",
       "      <td>-0.137331</td>\n",
       "    </tr>\n",
       "    <tr>\n",
       "      <th>3199</th>\n",
       "      <td>TRINITY_DN2366_c0_g1_i1</td>\n",
       "      <td>307</td>\n",
       "      <td>58.716</td>\n",
       "      <td>642.807957</td>\n",
       "      <td>132.0</td>\n",
       "      <td>0.174031</td>\n",
       "    </tr>\n",
       "    <tr>\n",
       "      <th>3200</th>\n",
       "      <td>TRINITY_DN2300_c0_g1_i1</td>\n",
       "      <td>536</td>\n",
       "      <td>287.000</td>\n",
       "      <td>213.203961</td>\n",
       "      <td>214.0</td>\n",
       "      <td>-0.052250</td>\n",
       "    </tr>\n",
       "  </tbody>\n",
       "</table>\n",
       "<p>3201 rows × 6 columns</p>\n",
       "</div>"
      ],
      "text/plain": [
       "                         Name  Length  EffectiveLength         TPM  NumReads  \\\n",
       "0      TRINITY_DN688_c0_g1_i1     351          102.003   78.489229      28.0   \n",
       "1      TRINITY_DN600_c0_g1_i1     326           77.092   74.179055      20.0   \n",
       "2      TRINITY_DN685_c0_g1_i1     441          192.000   56.590790      38.0   \n",
       "3      TRINITY_DN655_c0_g1_i1    1116          867.000   27.702795      84.0   \n",
       "4      TRINITY_DN640_c0_g1_i1     652          403.000   50.375190      71.0   \n",
       "...                       ...     ...              ...         ...       ...   \n",
       "3196  TRINITY_DN2350_c0_g1_i1     573          324.000   36.182806      41.0   \n",
       "3197  TRINITY_DN2360_c0_g1_i1     277           34.302  133.371784      16.0   \n",
       "3198  TRINITY_DN2309_c0_g1_i1     498          249.000   51.674533      45.0   \n",
       "3199  TRINITY_DN2366_c0_g1_i1     307           58.716  642.807957     132.0   \n",
       "3200  TRINITY_DN2300_c0_g1_i1     536          287.000  213.203961     214.0   \n",
       "\n",
       "       z_score  \n",
       "0    -0.123207  \n",
       "1    -0.125477  \n",
       "2    -0.134741  \n",
       "3    -0.149957  \n",
       "4    -0.138015  \n",
       "...        ...  \n",
       "3196 -0.145491  \n",
       "3197 -0.094299  \n",
       "3198 -0.137331  \n",
       "3199  0.174031  \n",
       "3200 -0.052250  \n",
       "\n",
       "[3201 rows x 6 columns]"
      ]
     },
     "execution_count": 69,
     "metadata": {},
     "output_type": "execute_result"
    }
   ],
   "source": [
    "df['z_score']=stats.zscore(df['TPM'])\n",
    "df"
   ]
  },
  {
   "cell_type": "markdown",
   "metadata": {},
   "source": [
    "### Empirical rule any absolute value of z-score above 3 is considered as an Outlier. This is quite debatable and may not hold true for every dataset in this world.\n",
    "That is also in-line with the six sigma and statistical process control limits as well. So we have discarded any values which is above 3 values of Standard deviation to remove outliers"
   ]
  },
  {
   "cell_type": "code",
   "execution_count": 71,
   "metadata": {},
   "outputs": [
    {
     "data": {
      "text/html": [
       "<div>\n",
       "<style scoped>\n",
       "    .dataframe tbody tr th:only-of-type {\n",
       "        vertical-align: middle;\n",
       "    }\n",
       "\n",
       "    .dataframe tbody tr th {\n",
       "        vertical-align: top;\n",
       "    }\n",
       "\n",
       "    .dataframe thead th {\n",
       "        text-align: right;\n",
       "    }\n",
       "</style>\n",
       "<table border=\"1\" class=\"dataframe\">\n",
       "  <thead>\n",
       "    <tr style=\"text-align: right;\">\n",
       "      <th></th>\n",
       "      <th>Length</th>\n",
       "      <th>EffectiveLength</th>\n",
       "      <th>TPM</th>\n",
       "      <th>NumReads</th>\n",
       "      <th>z_score</th>\n",
       "    </tr>\n",
       "  </thead>\n",
       "  <tbody>\n",
       "    <tr>\n",
       "      <th>count</th>\n",
       "      <td>3201.000000</td>\n",
       "      <td>3201.000000</td>\n",
       "      <td>3201.000000</td>\n",
       "      <td>3201.000000</td>\n",
       "      <td>3.201000e+03</td>\n",
       "    </tr>\n",
       "    <tr>\n",
       "      <th>mean</th>\n",
       "      <td>500.084349</td>\n",
       "      <td>253.335170</td>\n",
       "      <td>312.402374</td>\n",
       "      <td>155.402999</td>\n",
       "      <td>1.775802e-17</td>\n",
       "    </tr>\n",
       "    <tr>\n",
       "      <th>std</th>\n",
       "      <td>307.164462</td>\n",
       "      <td>305.474797</td>\n",
       "      <td>1898.835931</td>\n",
       "      <td>482.621994</td>\n",
       "      <td>1.000156e+00</td>\n",
       "    </tr>\n",
       "    <tr>\n",
       "      <th>min</th>\n",
       "      <td>251.000000</td>\n",
       "      <td>21.005000</td>\n",
       "      <td>0.000000</td>\n",
       "      <td>0.000000</td>\n",
       "      <td>-1.645488e-01</td>\n",
       "    </tr>\n",
       "    <tr>\n",
       "      <th>25%</th>\n",
       "      <td>302.000000</td>\n",
       "      <td>54.120000</td>\n",
       "      <td>54.056874</td>\n",
       "      <td>20.000000</td>\n",
       "      <td>-1.360759e-01</td>\n",
       "    </tr>\n",
       "    <tr>\n",
       "      <th>50%</th>\n",
       "      <td>388.000000</td>\n",
       "      <td>139.000000</td>\n",
       "      <td>86.728262</td>\n",
       "      <td>37.000000</td>\n",
       "      <td>-1.188672e-01</td>\n",
       "    </tr>\n",
       "    <tr>\n",
       "      <th>75%</th>\n",
       "      <td>576.000000</td>\n",
       "      <td>327.000000</td>\n",
       "      <td>152.067063</td>\n",
       "      <td>95.000000</td>\n",
       "      <td>-8.445193e-02</td>\n",
       "    </tr>\n",
       "    <tr>\n",
       "      <th>max</th>\n",
       "      <td>3169.000000</td>\n",
       "      <td>2920.000000</td>\n",
       "      <td>48773.745983</td>\n",
       "      <td>8725.527000</td>\n",
       "      <td>2.552559e+01</td>\n",
       "    </tr>\n",
       "  </tbody>\n",
       "</table>\n",
       "</div>"
      ],
      "text/plain": [
       "            Length  EffectiveLength           TPM     NumReads       z_score\n",
       "count  3201.000000      3201.000000   3201.000000  3201.000000  3.201000e+03\n",
       "mean    500.084349       253.335170    312.402374   155.402999  1.775802e-17\n",
       "std     307.164462       305.474797   1898.835931   482.621994  1.000156e+00\n",
       "min     251.000000        21.005000      0.000000     0.000000 -1.645488e-01\n",
       "25%     302.000000        54.120000     54.056874    20.000000 -1.360759e-01\n",
       "50%     388.000000       139.000000     86.728262    37.000000 -1.188672e-01\n",
       "75%     576.000000       327.000000    152.067063    95.000000 -8.445193e-02\n",
       "max    3169.000000      2920.000000  48773.745983  8725.527000  2.552559e+01"
      ]
     },
     "execution_count": 71,
     "metadata": {},
     "output_type": "execute_result"
    }
   ],
   "source": [
    "#Get max value of the numeric cols\n",
    "df.select_dtypes(include=[np.number]).max()\n",
    "df.select_dtypes(include=[np.number]).min()\n",
    "#Get basic statics\n",
    "df.describe()"
   ]
  },
  {
   "cell_type": "code",
   "execution_count": 82,
   "metadata": {},
   "outputs": [
    {
     "data": {
      "text/plain": [
       "(3180, 6)"
      ]
     },
     "execution_count": 82,
     "metadata": {},
     "output_type": "execute_result"
    }
   ],
   "source": [
    "df_filtered= df.loc[df['z_score'].abs()<=3]\n",
    "df_filtered.shape\n"
   ]
  },
  {
   "cell_type": "code",
   "execution_count": 83,
   "metadata": {},
   "outputs": [
    {
     "data": {
      "image/png": "[encoded data removed]",
      "text/plain": [
       "<Figure size 432x288 with 1 Axes>"
      ]
     },
     "metadata": {
      "needs_background": "light"
     },
     "output_type": "display_data"
    }
   ],
   "source": [
    "lst_TPM2 = df2 = df_filtered['TPM']\n",
    "sns.distplot(lst_TPM2);"
   ]
  },
  {
   "cell_type": "code",
   "execution_count": 84,
   "metadata": {},
   "outputs": [
    {
     "data": {
      "text/html": [
       "<div>\n",
       "<style scoped>\n",
       "    .dataframe tbody tr th:only-of-type {\n",
       "        vertical-align: middle;\n",
       "    }\n",
       "\n",
       "    .dataframe tbody tr th {\n",
       "        vertical-align: top;\n",
       "    }\n",
       "\n",
       "    .dataframe thead th {\n",
       "        text-align: right;\n",
       "    }\n",
       "</style>\n",
       "<table border=\"1\" class=\"dataframe\">\n",
       "  <thead>\n",
       "    <tr style=\"text-align: right;\">\n",
       "      <th></th>\n",
       "      <th>Name</th>\n",
       "      <th>Length</th>\n",
       "      <th>EffectiveLength</th>\n",
       "      <th>TPM</th>\n",
       "      <th>NumReads</th>\n",
       "      <th>z_score</th>\n",
       "    </tr>\n",
       "  </thead>\n",
       "  <tbody>\n",
       "    <tr>\n",
       "      <th>0</th>\n",
       "      <td>TRINITY_DN688_c0_g1_i1</td>\n",
       "      <td>351</td>\n",
       "      <td>102.003</td>\n",
       "      <td>78.489229</td>\n",
       "      <td>28.0</td>\n",
       "      <td>-0.123207</td>\n",
       "    </tr>\n",
       "    <tr>\n",
       "      <th>1</th>\n",
       "      <td>TRINITY_DN600_c0_g1_i1</td>\n",
       "      <td>326</td>\n",
       "      <td>77.092</td>\n",
       "      <td>74.179055</td>\n",
       "      <td>20.0</td>\n",
       "      <td>-0.125477</td>\n",
       "    </tr>\n",
       "    <tr>\n",
       "      <th>2</th>\n",
       "      <td>TRINITY_DN685_c0_g1_i1</td>\n",
       "      <td>441</td>\n",
       "      <td>192.000</td>\n",
       "      <td>56.590790</td>\n",
       "      <td>38.0</td>\n",
       "      <td>-0.134741</td>\n",
       "    </tr>\n",
       "    <tr>\n",
       "      <th>3</th>\n",
       "      <td>TRINITY_DN655_c0_g1_i1</td>\n",
       "      <td>1116</td>\n",
       "      <td>867.000</td>\n",
       "      <td>27.702795</td>\n",
       "      <td>84.0</td>\n",
       "      <td>-0.149957</td>\n",
       "    </tr>\n",
       "    <tr>\n",
       "      <th>4</th>\n",
       "      <td>TRINITY_DN640_c0_g1_i1</td>\n",
       "      <td>652</td>\n",
       "      <td>403.000</td>\n",
       "      <td>50.375190</td>\n",
       "      <td>71.0</td>\n",
       "      <td>-0.138015</td>\n",
       "    </tr>\n",
       "    <tr>\n",
       "      <th>...</th>\n",
       "      <td>...</td>\n",
       "      <td>...</td>\n",
       "      <td>...</td>\n",
       "      <td>...</td>\n",
       "      <td>...</td>\n",
       "      <td>...</td>\n",
       "    </tr>\n",
       "    <tr>\n",
       "      <th>3196</th>\n",
       "      <td>TRINITY_DN2350_c0_g1_i1</td>\n",
       "      <td>573</td>\n",
       "      <td>324.000</td>\n",
       "      <td>36.182806</td>\n",
       "      <td>41.0</td>\n",
       "      <td>-0.145491</td>\n",
       "    </tr>\n",
       "    <tr>\n",
       "      <th>3197</th>\n",
       "      <td>TRINITY_DN2360_c0_g1_i1</td>\n",
       "      <td>277</td>\n",
       "      <td>34.302</td>\n",
       "      <td>133.371784</td>\n",
       "      <td>16.0</td>\n",
       "      <td>-0.094299</td>\n",
       "    </tr>\n",
       "    <tr>\n",
       "      <th>3198</th>\n",
       "      <td>TRINITY_DN2309_c0_g1_i1</td>\n",
       "      <td>498</td>\n",
       "      <td>249.000</td>\n",
       "      <td>51.674533</td>\n",
       "      <td>45.0</td>\n",
       "      <td>-0.137331</td>\n",
       "    </tr>\n",
       "    <tr>\n",
       "      <th>3199</th>\n",
       "      <td>TRINITY_DN2366_c0_g1_i1</td>\n",
       "      <td>307</td>\n",
       "      <td>58.716</td>\n",
       "      <td>642.807957</td>\n",
       "      <td>132.0</td>\n",
       "      <td>0.174031</td>\n",
       "    </tr>\n",
       "    <tr>\n",
       "      <th>3200</th>\n",
       "      <td>TRINITY_DN2300_c0_g1_i1</td>\n",
       "      <td>536</td>\n",
       "      <td>287.000</td>\n",
       "      <td>213.203961</td>\n",
       "      <td>214.0</td>\n",
       "      <td>-0.052250</td>\n",
       "    </tr>\n",
       "  </tbody>\n",
       "</table>\n",
       "<p>3180 rows × 6 columns</p>\n",
       "</div>"
      ],
      "text/plain": [
       "                         Name  Length  EffectiveLength         TPM  NumReads  \\\n",
       "0      TRINITY_DN688_c0_g1_i1     351          102.003   78.489229      28.0   \n",
       "1      TRINITY_DN600_c0_g1_i1     326           77.092   74.179055      20.0   \n",
       "2      TRINITY_DN685_c0_g1_i1     441          192.000   56.590790      38.0   \n",
       "3      TRINITY_DN655_c0_g1_i1    1116          867.000   27.702795      84.0   \n",
       "4      TRINITY_DN640_c0_g1_i1     652          403.000   50.375190      71.0   \n",
       "...                       ...     ...              ...         ...       ...   \n",
       "3196  TRINITY_DN2350_c0_g1_i1     573          324.000   36.182806      41.0   \n",
       "3197  TRINITY_DN2360_c0_g1_i1     277           34.302  133.371784      16.0   \n",
       "3198  TRINITY_DN2309_c0_g1_i1     498          249.000   51.674533      45.0   \n",
       "3199  TRINITY_DN2366_c0_g1_i1     307           58.716  642.807957     132.0   \n",
       "3200  TRINITY_DN2300_c0_g1_i1     536          287.000  213.203961     214.0   \n",
       "\n",
       "       z_score  \n",
       "0    -0.123207  \n",
       "1    -0.125477  \n",
       "2    -0.134741  \n",
       "3    -0.149957  \n",
       "4    -0.138015  \n",
       "...        ...  \n",
       "3196 -0.145491  \n",
       "3197 -0.094299  \n",
       "3198 -0.137331  \n",
       "3199  0.174031  \n",
       "3200 -0.052250  \n",
       "\n",
       "[3180 rows x 6 columns]"
      ]
     },
     "execution_count": 84,
     "metadata": {},
     "output_type": "execute_result"
    }
   ],
   "source": [
    "df_filtered"
   ]
  },
  {
   "cell_type": "code",
   "execution_count": 95,
   "metadata": {},
   "outputs": [
    {
     "data": {
      "image/png": "[encoded data removed]",
      "text/plain": [
       "<Figure size 432x288 with 1 Axes>"
      ]
     },
     "metadata": {
      "needs_background": "light"
     },
     "output_type": "display_data"
    }
   ],
   "source": [
    "# Scatted plot absolute counts versus normalized count\n",
    "plt.scatter('TPM','NumReads', data=df_filtered)\n",
    "plt.xlabel('TPM')\n",
    "plt.ylabel('NumReads')\n",
    "plt.title('Scatter plot of expression values: raw')\n",
    "plt.show()"
   ]
  },
  {
   "cell_type": "code",
   "execution_count": 88,
   "metadata": {},
   "outputs": [
    {
     "name": "stdout",
     "output_type": "stream",
     "text": [
      "First quantile in TPM column:53.929691000000005\n",
      "First third in TPM column:150.01085899999998\n",
      "IQR in TPM column:96.08116799999998\n",
      "10th.quantile in TPM column:41.5571579\n",
      "90th.quantile in TPM column:296.61221639999997\n"
     ]
    }
   ],
   "source": [
    "Q1 = np.quantile(lst_TPM2,0.25)\n",
    "Q3 = np.quantile(lst_TPM2,0.75)\n",
    "IQR = Q3 - Q1\n",
    "print (\"First quantile in TPM column:\"+str(Q1))\n",
    "print (\"First third in TPM column:\"+str(Q3))\n",
    "print (\"IQR in TPM column:\"+str(IQR))\n",
    "q10 = np.quantile(lst_TPM2,0.10)\n",
    "q90 = np.quantile(lst_TPM2,0.90)\n",
    "print (\"10th.quantile in TPM column:\"+str(q10))\n",
    "print (\"90th.quantile in TPM column:\"+str(q90))"
   ]
  },
  {
   "cell_type": "code",
   "execution_count": 89,
   "metadata": {},
   "outputs": [
    {
     "data": {
      "text/html": [
       "<div>\n",
       "<style scoped>\n",
       "    .dataframe tbody tr th:only-of-type {\n",
       "        vertical-align: middle;\n",
       "    }\n",
       "\n",
       "    .dataframe tbody tr th {\n",
       "        vertical-align: top;\n",
       "    }\n",
       "\n",
       "    .dataframe thead th {\n",
       "        text-align: right;\n",
       "    }\n",
       "</style>\n",
       "<table border=\"1\" class=\"dataframe\">\n",
       "  <thead>\n",
       "    <tr style=\"text-align: right;\">\n",
       "      <th></th>\n",
       "      <th>Length</th>\n",
       "      <th>EffectiveLength</th>\n",
       "      <th>TPM</th>\n",
       "      <th>NumReads</th>\n",
       "      <th>z_score</th>\n",
       "    </tr>\n",
       "  </thead>\n",
       "  <tbody>\n",
       "    <tr>\n",
       "      <th>count</th>\n",
       "      <td>3180.000000</td>\n",
       "      <td>3180.000000</td>\n",
       "      <td>3180.000000</td>\n",
       "      <td>3180.000000</td>\n",
       "      <td>3180.000000</td>\n",
       "    </tr>\n",
       "    <tr>\n",
       "      <th>mean</th>\n",
       "      <td>501.270126</td>\n",
       "      <td>254.510504</td>\n",
       "      <td>194.892500</td>\n",
       "      <td>131.053613</td>\n",
       "      <td>-0.061895</td>\n",
       "    </tr>\n",
       "    <tr>\n",
       "      <th>std</th>\n",
       "      <td>307.800724</td>\n",
       "      <td>306.113662</td>\n",
       "      <td>467.603745</td>\n",
       "      <td>323.281334</td>\n",
       "      <td>0.246297</td>\n",
       "    </tr>\n",
       "    <tr>\n",
       "      <th>min</th>\n",
       "      <td>251.000000</td>\n",
       "      <td>21.005000</td>\n",
       "      <td>0.000000</td>\n",
       "      <td>0.000000</td>\n",
       "      <td>-0.164549</td>\n",
       "    </tr>\n",
       "    <tr>\n",
       "      <th>25%</th>\n",
       "      <td>303.000000</td>\n",
       "      <td>55.027000</td>\n",
       "      <td>53.929691</td>\n",
       "      <td>20.000000</td>\n",
       "      <td>-0.136143</td>\n",
       "    </tr>\n",
       "    <tr>\n",
       "      <th>50%</th>\n",
       "      <td>388.500000</td>\n",
       "      <td>139.500000</td>\n",
       "      <td>86.338651</td>\n",
       "      <td>36.000000</td>\n",
       "      <td>-0.119072</td>\n",
       "    </tr>\n",
       "    <tr>\n",
       "      <th>75%</th>\n",
       "      <td>577.000000</td>\n",
       "      <td>328.000000</td>\n",
       "      <td>150.010859</td>\n",
       "      <td>92.250000</td>\n",
       "      <td>-0.085535</td>\n",
       "    </tr>\n",
       "    <tr>\n",
       "      <th>max</th>\n",
       "      <td>3169.000000</td>\n",
       "      <td>2920.000000</td>\n",
       "      <td>5638.732013</td>\n",
       "      <td>5923.000000</td>\n",
       "      <td>2.805488</td>\n",
       "    </tr>\n",
       "  </tbody>\n",
       "</table>\n",
       "</div>"
      ],
      "text/plain": [
       "            Length  EffectiveLength          TPM     NumReads      z_score\n",
       "count  3180.000000      3180.000000  3180.000000  3180.000000  3180.000000\n",
       "mean    501.270126       254.510504   194.892500   131.053613    -0.061895\n",
       "std     307.800724       306.113662   467.603745   323.281334     0.246297\n",
       "min     251.000000        21.005000     0.000000     0.000000    -0.164549\n",
       "25%     303.000000        55.027000    53.929691    20.000000    -0.136143\n",
       "50%     388.500000       139.500000    86.338651    36.000000    -0.119072\n",
       "75%     577.000000       328.000000   150.010859    92.250000    -0.085535\n",
       "max    3169.000000      2920.000000  5638.732013  5923.000000     2.805488"
      ]
     },
     "execution_count": 89,
     "metadata": {},
     "output_type": "execute_result"
    }
   ],
   "source": [
    "#Get max value of the numeric cols\n",
    "df_filtered.select_dtypes(include=[np.number]).max()\n",
    "df_filtered.select_dtypes(include=[np.number]).min()\n",
    "#Get basic statics\n",
    "df_filtered.describe()"
   ]
  },
  {
   "cell_type": "markdown",
   "metadata": {},
   "source": [
    "## Method 3: Data Smoothing with Exponential smoothing(EWMA)\n",
    "\n",
    "Smoothing of data is done for a variety of reasons and one of them is eliminating the spikes and outliers. If there is some outliers which are really high or a absolute low then smoothing helps to summarize the data and remove the noise from the data.\n",
    "\n",
    "Use various techniques like rolling mean, moving averages and Exponential smoothing(EWMA)\n",
    "\n",
    "The Exponential Smoothing(EWMA) unlike moving average which doesn’t treat all the data points equally while smoothing. Most of the time in a Time series data we want to treat the most recent data with more weight than the previous data."
   ]
  },
  {
   "cell_type": "markdown",
   "metadata": {},
   "source": [
    "For example: if your current value if 12 and previous value is 8 and smoothing level is 0.6 then the smoothed value is given by 12*0.6 + (1-0.6)*8\n",
    "\n",
    "### Finding Exponential Smoothing values using Pandas"
   ]
  },
  {
   "cell_type": "code",
   "execution_count": 100,
   "metadata": {},
   "outputs": [
    {
     "data": {
      "text/plain": [
       "(3201, 6)"
      ]
     },
     "execution_count": 100,
     "metadata": {},
     "output_type": "execute_result"
    }
   ],
   "source": [
    "df.shape"
   ]
  },
  {
   "cell_type": "code",
   "execution_count": 101,
   "metadata": {},
   "outputs": [
    {
     "data": {
      "text/html": [
       "<div>\n",
       "<style scoped>\n",
       "    .dataframe tbody tr th:only-of-type {\n",
       "        vertical-align: middle;\n",
       "    }\n",
       "\n",
       "    .dataframe tbody tr th {\n",
       "        vertical-align: top;\n",
       "    }\n",
       "\n",
       "    .dataframe thead th {\n",
       "        text-align: right;\n",
       "    }\n",
       "</style>\n",
       "<table border=\"1\" class=\"dataframe\">\n",
       "  <thead>\n",
       "    <tr style=\"text-align: right;\">\n",
       "      <th></th>\n",
       "      <th>Name</th>\n",
       "      <th>Length</th>\n",
       "      <th>EffectiveLength</th>\n",
       "      <th>TPM</th>\n",
       "      <th>NumReads</th>\n",
       "      <th>z_score</th>\n",
       "      <th>ewm_alpha_1</th>\n",
       "      <th>ewm_alpha_3</th>\n",
       "      <th>ewm_alpha_6</th>\n",
       "    </tr>\n",
       "  </thead>\n",
       "  <tbody>\n",
       "    <tr>\n",
       "      <th>0</th>\n",
       "      <td>TRINITY_DN688_c0_g1_i1</td>\n",
       "      <td>351</td>\n",
       "      <td>102.003</td>\n",
       "      <td>78.489229</td>\n",
       "      <td>28.0</td>\n",
       "      <td>-0.123207</td>\n",
       "      <td>78.489229</td>\n",
       "      <td>78.489229</td>\n",
       "      <td>78.489229</td>\n",
       "    </tr>\n",
       "    <tr>\n",
       "      <th>1</th>\n",
       "      <td>TRINITY_DN600_c0_g1_i1</td>\n",
       "      <td>326</td>\n",
       "      <td>77.092</td>\n",
       "      <td>74.179055</td>\n",
       "      <td>20.0</td>\n",
       "      <td>-0.125477</td>\n",
       "      <td>76.220716</td>\n",
       "      <td>75.953833</td>\n",
       "      <td>75.410533</td>\n",
       "    </tr>\n",
       "    <tr>\n",
       "      <th>2</th>\n",
       "      <td>TRINITY_DN685_c0_g1_i1</td>\n",
       "      <td>441</td>\n",
       "      <td>192.000</td>\n",
       "      <td>56.590790</td>\n",
       "      <td>38.0</td>\n",
       "      <td>-0.134741</td>\n",
       "      <td>68.977201</td>\n",
       "      <td>67.112261</td>\n",
       "      <td>63.346595</td>\n",
       "    </tr>\n",
       "    <tr>\n",
       "      <th>3</th>\n",
       "      <td>TRINITY_DN655_c0_g1_i1</td>\n",
       "      <td>1116</td>\n",
       "      <td>867.000</td>\n",
       "      <td>27.702795</td>\n",
       "      <td>84.0</td>\n",
       "      <td>-0.149957</td>\n",
       "      <td>56.975338</td>\n",
       "      <td>51.553845</td>\n",
       "      <td>41.398442</td>\n",
       "    </tr>\n",
       "    <tr>\n",
       "      <th>4</th>\n",
       "      <td>TRINITY_DN640_c0_g1_i1</td>\n",
       "      <td>652</td>\n",
       "      <td>403.000</td>\n",
       "      <td>50.375190</td>\n",
       "      <td>71.0</td>\n",
       "      <td>-0.138015</td>\n",
       "      <td>55.363620</td>\n",
       "      <td>51.128814</td>\n",
       "      <td>46.840215</td>\n",
       "    </tr>\n",
       "    <tr>\n",
       "      <th>...</th>\n",
       "      <td>...</td>\n",
       "      <td>...</td>\n",
       "      <td>...</td>\n",
       "      <td>...</td>\n",
       "      <td>...</td>\n",
       "      <td>...</td>\n",
       "      <td>...</td>\n",
       "      <td>...</td>\n",
       "      <td>...</td>\n",
       "    </tr>\n",
       "    <tr>\n",
       "      <th>3196</th>\n",
       "      <td>TRINITY_DN2350_c0_g1_i1</td>\n",
       "      <td>573</td>\n",
       "      <td>324.000</td>\n",
       "      <td>36.182806</td>\n",
       "      <td>41.0</td>\n",
       "      <td>-0.145491</td>\n",
       "      <td>176.168418</td>\n",
       "      <td>122.386010</td>\n",
       "      <td>103.026309</td>\n",
       "    </tr>\n",
       "    <tr>\n",
       "      <th>3197</th>\n",
       "      <td>TRINITY_DN2360_c0_g1_i1</td>\n",
       "      <td>277</td>\n",
       "      <td>34.302</td>\n",
       "      <td>133.371784</td>\n",
       "      <td>16.0</td>\n",
       "      <td>-0.094299</td>\n",
       "      <td>171.888755</td>\n",
       "      <td>125.681742</td>\n",
       "      <td>121.233594</td>\n",
       "    </tr>\n",
       "    <tr>\n",
       "      <th>3198</th>\n",
       "      <td>TRINITY_DN2309_c0_g1_i1</td>\n",
       "      <td>498</td>\n",
       "      <td>249.000</td>\n",
       "      <td>51.674533</td>\n",
       "      <td>45.0</td>\n",
       "      <td>-0.137331</td>\n",
       "      <td>159.867333</td>\n",
       "      <td>103.479579</td>\n",
       "      <td>79.498157</td>\n",
       "    </tr>\n",
       "    <tr>\n",
       "      <th>3199</th>\n",
       "      <td>TRINITY_DN2366_c0_g1_i1</td>\n",
       "      <td>307</td>\n",
       "      <td>58.716</td>\n",
       "      <td>642.807957</td>\n",
       "      <td>132.0</td>\n",
       "      <td>0.174031</td>\n",
       "      <td>208.161395</td>\n",
       "      <td>265.278093</td>\n",
       "      <td>417.484037</td>\n",
       "    </tr>\n",
       "    <tr>\n",
       "      <th>3200</th>\n",
       "      <td>TRINITY_DN2300_c0_g1_i1</td>\n",
       "      <td>536</td>\n",
       "      <td>287.000</td>\n",
       "      <td>213.203961</td>\n",
       "      <td>214.0</td>\n",
       "      <td>-0.052250</td>\n",
       "      <td>208.665652</td>\n",
       "      <td>249.655853</td>\n",
       "      <td>294.915991</td>\n",
       "    </tr>\n",
       "  </tbody>\n",
       "</table>\n",
       "<p>3201 rows × 9 columns</p>\n",
       "</div>"
      ],
      "text/plain": [
       "                         Name  Length  EffectiveLength         TPM  NumReads  \\\n",
       "0      TRINITY_DN688_c0_g1_i1     351          102.003   78.489229      28.0   \n",
       "1      TRINITY_DN600_c0_g1_i1     326           77.092   74.179055      20.0   \n",
       "2      TRINITY_DN685_c0_g1_i1     441          192.000   56.590790      38.0   \n",
       "3      TRINITY_DN655_c0_g1_i1    1116          867.000   27.702795      84.0   \n",
       "4      TRINITY_DN640_c0_g1_i1     652          403.000   50.375190      71.0   \n",
       "...                       ...     ...              ...         ...       ...   \n",
       "3196  TRINITY_DN2350_c0_g1_i1     573          324.000   36.182806      41.0   \n",
       "3197  TRINITY_DN2360_c0_g1_i1     277           34.302  133.371784      16.0   \n",
       "3198  TRINITY_DN2309_c0_g1_i1     498          249.000   51.674533      45.0   \n",
       "3199  TRINITY_DN2366_c0_g1_i1     307           58.716  642.807957     132.0   \n",
       "3200  TRINITY_DN2300_c0_g1_i1     536          287.000  213.203961     214.0   \n",
       "\n",
       "       z_score  ewm_alpha_1  ewm_alpha_3  ewm_alpha_6  \n",
       "0    -0.123207    78.489229    78.489229    78.489229  \n",
       "1    -0.125477    76.220716    75.953833    75.410533  \n",
       "2    -0.134741    68.977201    67.112261    63.346595  \n",
       "3    -0.149957    56.975338    51.553845    41.398442  \n",
       "4    -0.138015    55.363620    51.128814    46.840215  \n",
       "...        ...          ...          ...          ...  \n",
       "3196 -0.145491   176.168418   122.386010   103.026309  \n",
       "3197 -0.094299   171.888755   125.681742   121.233594  \n",
       "3198 -0.137331   159.867333   103.479579    79.498157  \n",
       "3199  0.174031   208.161395   265.278093   417.484037  \n",
       "3200 -0.052250   208.665652   249.655853   294.915991  \n",
       "\n",
       "[3201 rows x 9 columns]"
      ]
     },
     "execution_count": 101,
     "metadata": {},
     "output_type": "execute_result"
    }
   ],
   "source": [
    "df['ewm_alpha_1']=df['TPM'].ewm(alpha=0.1).mean()\n",
    "df['ewm_alpha_3']=df['TPM'].ewm(alpha=0.3).mean()\n",
    "df['ewm_alpha_6']=df['TPM'].ewm(alpha=0.6).mean()\n",
    "df"
   ]
  },
  {
   "cell_type": "code",
   "execution_count": null,
   "metadata": {},
   "outputs": [],
   "source": []
  }
 ],
 "metadata": {
  "kernelspec": {
   "display_name": "Python 3",
   "language": "python",
   "name": "python3"
  },
  "language_info": {
   "codemirror_mode": {
    "name": "ipython",
    "version": 3
   },
   "file_extension": ".py",
   "mimetype": "text/x-python",
   "name": "python",
   "nbconvert_exporter": "python",
   "pygments_lexer": "ipython3",
   "version": "3.6.9"
  }
 },
 "nbformat": 4,
 "nbformat_minor": 4
}
