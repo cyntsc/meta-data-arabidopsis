{
 "cells": [
  {
   "cell_type": "code",
   "execution_count": null,
   "metadata": {},
   "outputs": [],
   "source": [
    "\n",
    "\n",
    "## Use skiprows with a callable:\n",
    "\n",
    "import pandas as pd\n",
    "\n",
    "keep_rows = [42 50 52 59 60 62]\n",
    "\n",
    "df = pd.read_csv('/Users/uni/Desktop/corrindex+id/rt35', \n",
    "                 header=None\n",
    "                 skiprows=lambda x: x not in keep_rows)\n",
    "\n"
   ]
  }
 ],
 "metadata": {
  "kernelspec": {
   "display_name": "Python 3",
   "language": "python",
   "name": "python3"
  },
  "language_info": {
   "codemirror_mode": {
    "name": "ipython",
    "version": 3
   },
   "file_extension": ".py",
   "mimetype": "text/x-python",
   "name": "python",
   "nbconvert_exporter": "python",
   "pygments_lexer": "ipython3",
   "version": "3.6.9"
  }
 },
 "nbformat": 4,
 "nbformat_minor": 4
}
