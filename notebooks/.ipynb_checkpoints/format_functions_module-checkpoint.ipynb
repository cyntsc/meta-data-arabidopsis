{
 "cells": [
  {
   "cell_type": "code",
   "execution_count": null,
   "metadata": {},
   "outputs": [],
   "source": [
    "import matplotlib.pyplot as plt\n",
    "import seaborn as sns\n",
    "\n",
    "def df_plot_heatmap_corr(df1, title):\n",
    "    plt.figure(figsize=(10,5), dpi= 80)\n",
    "    corrMatrix = df1.corr()\n",
    "    sns.heatmap(corrMatrix, annot=True)\n",
    "    plt.title(\"A.thaliana correlation matriz (pearson)\")\n",
    "    plt.xlabel(\"Samples ID\")\n",
    "    #plt.xticks(rotation = 45)\n",
    "    plt.show()"
   ]
  }
 ],
 "metadata": {
  "kernelspec": {
   "display_name": "Python 3",
   "language": "python",
   "name": "python3"
  },
  "language_info": {
   "codemirror_mode": {
    "name": "ipython",
    "version": 3
   },
   "file_extension": ".py",
   "mimetype": "text/x-python",
   "name": "python",
   "nbconvert_exporter": "python",
   "pygments_lexer": "ipython3",
   "version": "3.6.9"
  }
 },
 "nbformat": 4,
 "nbformat_minor": 4
}
